{
 "cells": [
  {
   "cell_type": "code",
   "execution_count": null,
   "id": "5a574ef5",
   "metadata": {},
   "outputs": [],
   "source": [
    "print(\"test\")\n",
    "x=2\n",
    "print(x+3)"
   ]
  }
 ],
 "metadata": {
  "kernelspec": {
   "display_name": "Python 3",
   "language": "python",
   "name": "python3"
  },
  "language_info": {
   "name": "python",
   "version": "3.11.9"
  }
 },
 "nbformat": 4,
 "nbformat_minor": 5
}
